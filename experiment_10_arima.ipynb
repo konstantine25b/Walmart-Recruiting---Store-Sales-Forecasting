{
  "cells": [
    {
      "cell_type": "markdown",
      "metadata": {
        "id": "iY0-Cj-XwTDn"
      },
      "source": [
        "# Experiment 10 ARIMA"
      ]
    },
    {
      "cell_type": "code",
      "execution_count": 1,
      "metadata": {
        "vscode": {
          "languageId": "plaintext"
        },
        "id": "CTKCUNKWwTDn",
        "outputId": "adc231d5-8c61-4136-ba1d-a9b2469e9220",
        "colab": {
          "base_uri": "https://localhost:8080/"
        }
      },
      "outputs": [
        {
          "output_type": "stream",
          "name": "stdout",
          "text": [
            "\u001b[2K   \u001b[90m━━━━━━━━━━━━━━━━━━━━━━━━━━━━━━━━━━━━━━━━\u001b[0m \u001b[32m17.6/17.6 MB\u001b[0m \u001b[31m44.5 MB/s\u001b[0m eta \u001b[36m0:00:00\u001b[0m\n",
            "\u001b[?25hMounted at /content/drive\n"
          ]
        }
      ],
      "source": [
        "!pip install kaggle wandb onnx -Uq\n",
        "from google.colab import drive\n",
        "drive.mount('/content/drive')"
      ]
    },
    {
      "cell_type": "code",
      "source": [
        "! mkdir ~/.kaggle\n",
        "!cp /content/drive/MyDrive/ColabNotebooks/kaggle_API_credentials/kaggle.json ~/.kaggle/kaggle.json\n",
        "! chmod 600 ~/.kaggle/kaggle.json\n",
        "!kaggle competitions download -c walmart-recruiting-store-sales-forecasting\n",
        "! unzip walmart-recruiting-store-sales-forecasting.zip\n",
        "!unzip train.csv.zip\n",
        "!unzip features.csv.zip"
      ],
      "metadata": {
        "id": "TXp9OwFCwV9e",
        "outputId": "32f8d43c-53d7-4edc-f32f-4f4aecba32b7",
        "colab": {
          "base_uri": "https://localhost:8080/"
        }
      },
      "execution_count": 2,
      "outputs": [
        {
          "output_type": "stream",
          "name": "stdout",
          "text": [
            "Downloading walmart-recruiting-store-sales-forecasting.zip to /content\n",
            "\r  0% 0.00/2.70M [00:00<?, ?B/s]\n",
            "\r100% 2.70M/2.70M [00:00<00:00, 655MB/s]\n",
            "Archive:  walmart-recruiting-store-sales-forecasting.zip\n",
            "  inflating: features.csv.zip        \n",
            "  inflating: sampleSubmission.csv.zip  \n",
            "  inflating: stores.csv              \n",
            "  inflating: test.csv.zip            \n",
            "  inflating: train.csv.zip           \n",
            "Archive:  train.csv.zip\n",
            "  inflating: train.csv               \n",
            "Archive:  features.csv.zip\n",
            "  inflating: features.csv            \n"
          ]
        }
      ]
    },
    {
      "cell_type": "code",
      "source": [
        "!pip install statsmodels mlflow dagshub scikit-learn pandas numpy matplotlib seaborn joblib -q"
      ],
      "metadata": {
        "id": "5uZm_D0uwm-_",
        "outputId": "1b735d95-71a5-454e-ba11-ffeba61c8036",
        "colab": {
          "base_uri": "https://localhost:8080/"
        }
      },
      "execution_count": 3,
      "outputs": [
        {
          "output_type": "stream",
          "name": "stdout",
          "text": [
            "\u001b[2K   \u001b[90m━━━━━━━━━━━━━━━━━━━━━━━━━━━━━━━━━━━━━━━━\u001b[0m \u001b[32m24.7/24.7 MB\u001b[0m \u001b[31m61.4 MB/s\u001b[0m eta \u001b[36m0:00:00\u001b[0m\n",
            "\u001b[2K   \u001b[90m━━━━━━━━━━━━━━━━━━━━━━━━━━━━━━━━━━━━━━━━\u001b[0m \u001b[32m1.9/1.9 MB\u001b[0m \u001b[31m63.1 MB/s\u001b[0m eta \u001b[36m0:00:00\u001b[0m\n",
            "\u001b[2K   \u001b[90m━━━━━━━━━━━━━━━━━━━━━━━━━━━━━━━━━━━━━━━━\u001b[0m \u001b[32m261.0/261.0 kB\u001b[0m \u001b[31m14.7 MB/s\u001b[0m eta \u001b[36m0:00:00\u001b[0m\n",
            "\u001b[2K   \u001b[90m━━━━━━━━━━━━━━━━━━━━━━━━━━━━━━━━━━━━━━━━\u001b[0m \u001b[32m246.9/246.9 kB\u001b[0m \u001b[31m14.5 MB/s\u001b[0m eta \u001b[36m0:00:00\u001b[0m\n",
            "\u001b[2K   \u001b[90m━━━━━━━━━━━━━━━━━━━━━━━━━━━━━━━━━━━━━━━━\u001b[0m \u001b[32m147.8/147.8 kB\u001b[0m \u001b[31m9.0 MB/s\u001b[0m eta \u001b[36m0:00:00\u001b[0m\n",
            "\u001b[2K   \u001b[90m━━━━━━━━━━━━━━━━━━━━━━━━━━━━━━━━━━━━━━━━\u001b[0m \u001b[32m114.9/114.9 kB\u001b[0m \u001b[31m7.5 MB/s\u001b[0m eta \u001b[36m0:00:00\u001b[0m\n",
            "\u001b[2K   \u001b[90m━━━━━━━━━━━━━━━━━━━━━━━━━━━━━━━━━━━━━━━━\u001b[0m \u001b[32m85.0/85.0 kB\u001b[0m \u001b[31m5.9 MB/s\u001b[0m eta \u001b[36m0:00:00\u001b[0m\n",
            "\u001b[2K   \u001b[90m━━━━━━━━━━━━━━━━━━━━━━━━━━━━━━━━━━━━━━━━\u001b[0m \u001b[32m139.9/139.9 kB\u001b[0m \u001b[31m8.3 MB/s\u001b[0m eta \u001b[36m0:00:00\u001b[0m\n",
            "\u001b[2K   \u001b[90m━━━━━━━━━━━━━━━━━━━━━━━━━━━━━━━━━━━━━━━━\u001b[0m \u001b[32m13.8/13.8 MB\u001b[0m \u001b[31m79.4 MB/s\u001b[0m eta \u001b[36m0:00:00\u001b[0m\n",
            "\u001b[2K   \u001b[90m━━━━━━━━━━━━━━━━━━━━━━━━━━━━━━━━━━━━━━━━\u001b[0m \u001b[32m741.4/741.4 kB\u001b[0m \u001b[31m35.0 MB/s\u001b[0m eta \u001b[36m0:00:00\u001b[0m\n",
            "\u001b[2K   \u001b[90m━━━━━━━━━━━━━━━━━━━━━━━━━━━━━━━━━━━━━━━━\u001b[0m \u001b[32m203.4/203.4 kB\u001b[0m \u001b[31m15.3 MB/s\u001b[0m eta \u001b[36m0:00:00\u001b[0m\n",
            "\u001b[2K   \u001b[90m━━━━━━━━━━━━━━━━━━━━━━━━━━━━━━━━━━━━━━━━\u001b[0m \u001b[32m50.9/50.9 kB\u001b[0m \u001b[31m3.3 MB/s\u001b[0m eta \u001b[36m0:00:00\u001b[0m\n",
            "\u001b[2K   \u001b[90m━━━━━━━━━━━━━━━━━━━━━━━━━━━━━━━━━━━━━━━━\u001b[0m \u001b[32m65.8/65.8 kB\u001b[0m \u001b[31m4.1 MB/s\u001b[0m eta \u001b[36m0:00:00\u001b[0m\n",
            "\u001b[2K   \u001b[90m━━━━━━━━━━━━━━━━━━━━━━━━━━━━━━━━━━━━━━━━\u001b[0m \u001b[32m118.5/118.5 kB\u001b[0m \u001b[31m7.4 MB/s\u001b[0m eta \u001b[36m0:00:00\u001b[0m\n",
            "\u001b[2K   \u001b[90m━━━━━━━━━━━━━━━━━━━━━━━━━━━━━━━━━━━━━━━━\u001b[0m \u001b[32m196.2/196.2 kB\u001b[0m \u001b[31m13.4 MB/s\u001b[0m eta \u001b[36m0:00:00\u001b[0m\n",
            "\u001b[2K   \u001b[90m━━━━━━━━━━━━━━━━━━━━━━━━━━━━━━━━━━━━━━━━\u001b[0m \u001b[32m85.2/85.2 kB\u001b[0m \u001b[31m5.5 MB/s\u001b[0m eta \u001b[36m0:00:00\u001b[0m\n",
            "\u001b[2K   \u001b[90m━━━━━━━━━━━━━━━━━━━━━━━━━━━━━━━━━━━━━━━━\u001b[0m \u001b[32m74.3/74.3 kB\u001b[0m \u001b[31m4.4 MB/s\u001b[0m eta \u001b[36m0:00:00\u001b[0m\n",
            "\u001b[?25h"
          ]
        }
      ]
    },
    {
      "cell_type": "code",
      "source": [
        "import pandas as pd\n",
        "import numpy as np\n",
        "import matplotlib.pyplot as plt\n",
        "import seaborn as sns\n",
        "import zipfile\n",
        "from datetime import datetime, timedelta\n",
        "import warnings\n",
        "warnings.filterwarnings('ignore')\n",
        "\n",
        "# SPEED OPTIMIZATION: Suppress verbose logging globally\n",
        "import logging\n",
        "logging.getLogger('statsmodels').setLevel(logging.WARNING)\n",
        "\n",
        "# Core libraries\n",
        "import mlflow\n",
        "import mlflow.sklearn\n",
        "import dagshub\n",
        "from sklearn.model_selection import train_test_split\n",
        "from sklearn.preprocessing import StandardScaler, LabelEncoder\n",
        "from sklearn.metrics import mean_absolute_error, mean_squared_error, r2_score\n",
        "\n",
        "# ARIMA libraries\n",
        "from statsmodels.tsa.arima.model import ARIMA\n",
        "from statsmodels.tsa.stattools import adfuller\n",
        "from statsmodels.tsa.seasonal import seasonal_decompose\n",
        "import joblib\n",
        "import os\n",
        "import json"
      ],
      "metadata": {
        "id": "1t36G9ArwX1T"
      },
      "execution_count": 4,
      "outputs": []
    },
    {
      "cell_type": "code",
      "source": [
        "class WalmartPreprocessingPipeline:\n",
        "    \"\"\"\n",
        "    Complete preprocessing pipeline for Walmart sales data\n",
        "    Supports fit/transform pattern for proper train/validation handling\n",
        "    \"\"\"\n",
        "\n",
        "    def __init__(self):\n",
        "        self.fitted = False\n",
        "        self.outlier_thresholds = None\n",
        "        self.feature_columns = None\n",
        "\n",
        "    def load_and_prepare_data(self):\n",
        "        \"\"\"Load and merge train.csv, stores.csv, features.csv datasets\"\"\"\n",
        "        print(\"📊 Loading datasets...\")\n",
        "\n",
        "        # Load datasets\n",
        "        train_df = pd.read_csv('train.csv')\n",
        "        stores_df = pd.read_csv('stores.csv')\n",
        "        features_df = pd.read_csv('features.csv')\n",
        "\n",
        "        print(f\"   📈 Train data: {train_df.shape}\")\n",
        "        print(f\"   🏪 Stores data: {stores_df.shape}\")\n",
        "        print(f\"   🎯 Features data: {features_df.shape}\")\n",
        "\n",
        "        # Convert Date column to datetime\n",
        "        train_df['Date'] = pd.to_datetime(train_df['Date'])\n",
        "        features_df['Date'] = pd.to_datetime(features_df['Date'])\n",
        "\n",
        "        # Merge datasets\n",
        "        train_stores = train_df.merge(stores_df, on='Store', how='left')\n",
        "        train_full = train_stores.merge(features_df, on=['Store', 'Date'], how='left')\n",
        "\n",
        "        print(f\"   ✅ Merged data: {train_full.shape}\")\n",
        "        print(f\"   📅 Date range: {train_full['Date'].min()} to {train_full['Date'].max()}\")\n",
        "\n",
        "        return train_full\n",
        "\n",
        "    def clean_merged_data(self, train_full):\n",
        "        \"\"\"Clean merged data by handling duplicate IsHoliday columns\"\"\"\n",
        "        print(\"🧹 Cleaning merged data...\")\n",
        "\n",
        "        initial_shape = train_full.shape\n",
        "\n",
        "        # Handle duplicate IsHoliday columns if they exist\n",
        "        if 'IsHoliday_x' in train_full.columns and 'IsHoliday_y' in train_full.columns:\n",
        "            print(\"   🔄 Resolving duplicate IsHoliday columns...\")\n",
        "            train_full['IsHoliday'] = train_full['IsHoliday_x'] | train_full['IsHoliday_y']\n",
        "            train_full = train_full.drop(['IsHoliday_x', 'IsHoliday_y'], axis=1)\n",
        "\n",
        "        print(f\"   ✅ Cleaned data: {train_full.shape} (was {initial_shape})\")\n",
        "        return train_full\n",
        "\n",
        "    def create_temporal_split(self, df, train_ratio=0.8):\n",
        "        \"\"\"Create temporal split to prevent data leakage\"\"\"\n",
        "        print(f\"📅 Creating temporal split ({int(train_ratio*100)}/{int((1-train_ratio)*100)})...\")\n",
        "\n",
        "        # Sort by date to ensure temporal order\n",
        "        df_sorted = df.sort_values('Date').reset_index(drop=True)\n",
        "\n",
        "        # Find split point\n",
        "        split_idx = int(len(df_sorted) * train_ratio)\n",
        "        split_date = df_sorted.iloc[split_idx]['Date']\n",
        "\n",
        "        # Create splits\n",
        "        train_data = df_sorted.iloc[:split_idx].copy()\n",
        "        val_data = df_sorted.iloc[split_idx:].copy()\n",
        "\n",
        "        # Create split info dictionary\n",
        "        split_info = {\n",
        "            'split_date': split_date,\n",
        "            'train_size': len(train_data),\n",
        "            'val_size': len(val_data),\n",
        "            'train_date_range': (train_data['Date'].min(), train_data['Date'].max()),\n",
        "            'val_date_range': (val_data['Date'].min(), val_data['Date'].max())\n",
        "        }\n",
        "\n",
        "        print(f\"   📊 Split date: {split_date}\")\n",
        "        print(f\"   📈 Train: {len(train_data):,} records ({train_data['Date'].min()} to {train_data['Date'].max()})\")\n",
        "        print(f\"   📉 Val: {len(val_data):,} records ({val_data['Date'].min()} to {val_data['Date'].max()})\")\n",
        "\n",
        "        return train_data, val_data, split_info\n",
        "\n",
        "    def fit(self, train_data):\n",
        "        \"\"\"Fit the preprocessing pipeline on training data\"\"\"\n",
        "        print(\"🔧 Fitting preprocessing pipeline on training data...\")\n",
        "\n",
        "        # Store training data for lag feature creation\n",
        "        self.train_data_for_lags = train_data.copy()\n",
        "\n",
        "        # Fit outlier removal thresholds on training data only\n",
        "        self.outlier_thresholds = {\n",
        "            'A': {'lower': -1000, 'upper': 50000},  # Type A stores\n",
        "            'B': {'lower': -500, 'upper': 25000},   # Type B stores\n",
        "            'C': {'lower': -200, 'upper': 15000}    # Type C stores\n",
        "        }\n",
        "\n",
        "        print(\"✅ Pipeline fitted on training data\")\n",
        "        self.fitted = True\n",
        "        return self\n",
        "\n",
        "    def transform(self, data, is_validation=False):\n",
        "        \"\"\"Transform data using fitted pipeline\"\"\"\n",
        "        if not self.fitted:\n",
        "            raise ValueError(\"Pipeline must be fitted before transform!\")\n",
        "\n",
        "        print(f\"🔄 Transforming {'validation' if is_validation else 'training'} data...\")\n",
        "\n",
        "        df = data.copy()\n",
        "\n",
        "        # Step 1: Create date features\n",
        "        df = self._create_date_features(df)\n",
        "\n",
        "        # Step 2: Create holiday features\n",
        "        df = self._create_holiday_features(df)\n",
        "\n",
        "        # Step 3: Encode categorical features (BEFORE outlier removal!)\n",
        "        df = self._encode_categorical_features(df)\n",
        "\n",
        "        # Step 4: Create lag features (different for train vs validation)\n",
        "        if is_validation:\n",
        "            df = self._create_lag_features_validation(df)\n",
        "        else:\n",
        "            df = self._create_lag_features_training(df)\n",
        "\n",
        "        # Step 5: Remove outliers (only on training data, AFTER encoding)\n",
        "        if not is_validation:\n",
        "            df = self._remove_outliers(df)\n",
        "\n",
        "        # Step 6: Remove markdown features\n",
        "        df = self._remove_markdown_features(df)\n",
        "\n",
        "        # Step 7: Remove redundant features\n",
        "        df = self._remove_redundant_features(df)\n",
        "\n",
        "        print(f\"✅ Transform complete. Shape: {df.shape}\")\n",
        "        return df\n",
        "\n",
        "    def fit_transform(self, train_data):\n",
        "        \"\"\"Fit and transform training data in one step\"\"\"\n",
        "        return self.fit(train_data).transform(train_data, is_validation=False)\n",
        "\n",
        "    def _create_date_features(self, df):\n",
        "        \"\"\"Create date features\"\"\"\n",
        "        df = df.copy()\n",
        "        df['Year'] = df['Date'].dt.year\n",
        "        df['Month'] = df['Date'].dt.month\n",
        "        df['Day'] = df['Date'].dt.day\n",
        "        df['DayOfWeek'] = df['Date'].dt.dayofweek\n",
        "        df['WeekOfYear'] = df['Date'].dt.isocalendar().week\n",
        "        df['Quarter'] = df['Date'].dt.quarter\n",
        "        df['IsWeekend'] = (df['DayOfWeek'] >= 5).astype(int)\n",
        "        df['IsMonthStart'] = df['Date'].dt.is_month_start.astype(int)\n",
        "        df['IsMonthEnd'] = df['Date'].dt.is_month_end.astype(int)\n",
        "        df['IsQuarterStart'] = df['Date'].dt.is_quarter_start.astype(int)\n",
        "        df['IsQuarterEnd'] = df['Date'].dt.is_quarter_end.astype(int)\n",
        "        start_date = df['Date'].min()\n",
        "        df['DaysFromStart'] = (df['Date'] - start_date).dt.days\n",
        "        df['WeeksFromStart'] = df['DaysFromStart'] // 7\n",
        "        return df\n",
        "\n",
        "    def _create_holiday_features(self, df):\n",
        "        \"\"\"Create holiday features\"\"\"\n",
        "        df = df.copy()\n",
        "        super_bowl_dates = ['2010-02-12', '2011-02-11', '2012-02-10']\n",
        "        labor_day_dates = ['2010-09-10', '2011-09-09', '2012-09-07']\n",
        "        thanksgiving_dates = ['2010-11-26', '2011-11-25', '2012-11-23']\n",
        "        christmas_dates = ['2010-12-31', '2011-12-30', '2012-12-28']\n",
        "\n",
        "        df['IsSuperBowlWeek'] = df['Date'].dt.strftime('%Y-%m-%d').isin(super_bowl_dates).astype(int)\n",
        "        df['IsLaborDayWeek'] = df['Date'].dt.strftime('%Y-%m-%d').isin(labor_day_dates).astype(int)\n",
        "        df['IsThanksgivingWeek'] = df['Date'].dt.strftime('%Y-%m-%d').isin(thanksgiving_dates).astype(int)\n",
        "        df['IsChristmasWeek'] = df['Date'].dt.strftime('%Y-%m-%d').isin(christmas_dates).astype(int)\n",
        "        df['IsMajorHoliday'] = (df['IsSuperBowlWeek'] | df['IsLaborDayWeek'] |\n",
        "                               df['IsThanksgivingWeek'] | df['IsChristmasWeek']).astype(int)\n",
        "        df['IsHolidayMonth'] = df['Month'].isin([11, 12]).astype(int)\n",
        "        df['IsBackToSchool'] = df['Month'].isin([8, 9]).astype(int)\n",
        "        return df\n",
        "\n",
        "    def _create_lag_features_training(self, df):\n",
        "        \"\"\"Create lag features for training data - DISABLED to reduce overfitting\"\"\"\n",
        "        # Lag features removed to prevent overfitting\n",
        "        return df\n",
        "\n",
        "    def _create_lag_features_validation(self, df):\n",
        "        \"\"\"Create lag features for validation data - DISABLED to reduce overfitting\"\"\"\n",
        "        # Lag features removed to prevent overfitting\n",
        "        return df\n",
        "\n",
        "    def _remove_outliers(self, df):\n",
        "        \"\"\"Remove outliers from training data only\"\"\"\n",
        "        initial_len = len(df)\n",
        "        df_clean = df.copy()\n",
        "\n",
        "        for store_type, thresholds in self.outlier_thresholds.items():\n",
        "            type_mask = df_clean[f'Type_{store_type}'] == 1\n",
        "            outlier_mask = (\n",
        "                (df_clean['Weekly_Sales'] < thresholds['lower']) |\n",
        "                (df_clean['Weekly_Sales'] > thresholds['upper'])\n",
        "            )\n",
        "            df_clean = df_clean[~(type_mask & outlier_mask)]\n",
        "\n",
        "        removed = initial_len - len(df_clean)\n",
        "        print(f\"   🗑️ Removed {removed:,} outliers from training data\")\n",
        "        return df_clean\n",
        "\n",
        "    def _remove_markdown_features(self, df):\n",
        "        \"\"\"Remove markdown columns\"\"\"\n",
        "        markdown_cols = [col for col in df.columns if 'MarkDown' in col]\n",
        "        if markdown_cols:\n",
        "            df = df.drop(markdown_cols, axis=1)\n",
        "        return df\n",
        "\n",
        "    def _remove_redundant_features(self, df):\n",
        "        \"\"\"Remove redundant features\"\"\"\n",
        "        redundant_cols = ['Year', 'Quarter', 'Day', 'WeekOfYear', 'DaysFromStart',\n",
        "                         'IsQuarterStart', 'IsQuarterEnd']\n",
        "        existing_redundant = [col for col in redundant_cols if col in df.columns]\n",
        "        if existing_redundant:\n",
        "            df = df.drop(existing_redundant, axis=1)\n",
        "        return df\n",
        "\n",
        "    def _encode_categorical_features(self, df):\n",
        "        \"\"\"Encode categorical features using both one-hot and label encoding\"\"\"\n",
        "        df = df.copy()\n",
        "\n",
        "        if 'Type' in df.columns:\n",
        "            print(f\"   🔧 Encoding Type column using both one-hot and label encoding...\")\n",
        "\n",
        "            # One-hot encoding (existing approach)\n",
        "            type_dummies = pd.get_dummies(df['Type'], prefix='Type', dtype=int)\n",
        "\n",
        "            # Label encoding (experiment_2 approach)\n",
        "            # A=0, B=1, C=2 (same as experiment_2)\n",
        "            type_mapping = {'A': 0, 'B': 1, 'C': 2}\n",
        "            df['Type_Encoded'] = df['Type'].map(type_mapping)\n",
        "\n",
        "            # Add one-hot columns\n",
        "            for col in type_dummies.columns:\n",
        "                df[col] = type_dummies[col]\n",
        "\n",
        "            # Remove original Type column\n",
        "            df = df.drop('Type', axis=1)\n",
        "\n",
        "            print(f\"   ✅ Added both Type_Encoded and {list(type_dummies.columns)}\")\n",
        "\n",
        "        return df\n",
        "\n"
      ],
      "metadata": {
        "id": "A_x_rP6RwvjR"
      },
      "execution_count": 5,
      "outputs": []
    },
    {
      "cell_type": "code",
      "source": [
        "def setup_mlflow():\n",
        "    \"\"\"Setup MLflow and DagsHub tracking\"\"\"\n",
        "    print(\"🔧 Setting up MLflow and DagsHub...\")\n",
        "\n",
        "    # End any active runs first\n",
        "    try:\n",
        "        mlflow.end_run()\n",
        "    except:\n",
        "        pass\n",
        "\n",
        "    # Initialize DagsHub\n",
        "    try:\n",
        "        dagshub.init(\n",
        "            repo_owner='konstantine25b',\n",
        "            repo_name='Walmart-Recruiting---Store-Sales-Forecasting',\n",
        "            mlflow=True\n",
        "        )\n",
        "        print(\"✅ DagsHub initialized successfully!\")\n",
        "    except Exception as e:\n",
        "        print(f\"⚠️ DagsHub init warning: {e}\")\n",
        "\n",
        "    # Set MLflow tracking URI\n",
        "    mlflow.set_tracking_uri(\"https://dagshub.com/konstantine25b/Walmart-Recruiting---Store-Sales-Forecasting.mlflow\")\n",
        "\n",
        "    # Create unique experiment name with timestamp\n",
        "    timestamp = datetime.now().strftime(\"%Y%m%d_%H%M%S\")\n",
        "    experiment_name = f\"Experiment_10_ARIMA_{timestamp}\"\n",
        "\n",
        "    try:\n",
        "        experiment_id = mlflow.create_experiment(experiment_name)\n",
        "        print(f\"✅ Created new experiment: {experiment_name}\")\n",
        "    except mlflow.exceptions.MlflowException as e:\n",
        "        if \"already exists\" in str(e):\n",
        "            experiment = mlflow.get_experiment_by_name(experiment_name)\n",
        "            experiment_id = experiment.experiment_id\n",
        "            print(f\"✅ Using existing experiment: {experiment_name}\")\n",
        "        else:\n",
        "            # Fallback to default experiment\n",
        "            experiment_name = \"Default\"\n",
        "            mlflow.set_experiment(experiment_name)\n",
        "            print(f\"⚠️ Using default experiment due to: {e}\")\n",
        "\n",
        "    mlflow.set_experiment(experiment_name)\n",
        "\n",
        "    print(f\"✅ MLflow setup complete!\")\n",
        "    print(f\"🔗 Tracking URI: {mlflow.get_tracking_uri()}\")\n",
        "    print(f\"📊 Experiment: {experiment_name}\")\n",
        "\n",
        "    return experiment_name\n"
      ],
      "metadata": {
        "id": "SN-tX9lLw6Vm"
      },
      "execution_count": 6,
      "outputs": []
    },
    {
      "cell_type": "code",
      "source": [
        "\n",
        "def get_preprocessed_data():\n",
        "    \"\"\"\n",
        "    Use preprocessing pipeline to get model-ready data\n",
        "\n",
        "    Returns:\n",
        "        X_train, y_train, X_val, y_val: Model-ready datasets\n",
        "        train_holidays, val_holidays: Holiday indicators for WMAE\n",
        "        split_info: Information about the temporal split\n",
        "    \"\"\"\n",
        "    print(\"🔄 Getting preprocessed data using pipeline...\")\n",
        "\n",
        "    # Create the preprocessing pipeline\n",
        "    pipeline = WalmartPreprocessingPipeline()\n",
        "\n",
        "    # Load raw data\n",
        "    train_full = pipeline.load_and_prepare_data()\n",
        "    train_full = pipeline.clean_merged_data(train_full)\n",
        "\n",
        "    # Create temporal split\n",
        "    train_data, val_data, split_info = pipeline.create_temporal_split(train_full)\n",
        "\n",
        "    # Extract holiday information before preprocessing\n",
        "    val_holidays = val_data['IsHoliday'].values.astype(bool)\n",
        "\n",
        "    # Separate validation target (realistic test scenario)\n",
        "    y_val = val_data['Weekly_Sales'].copy()\n",
        "    val_data_no_target = val_data.drop('Weekly_Sales', axis=1).copy()\n",
        "\n",
        "    # Fit and transform data using pipeline\n",
        "    pipeline.fit(train_data)\n",
        "    train_processed = pipeline.transform(train_data, is_validation=False)\n",
        "    val_processed = pipeline.transform(val_data_no_target, is_validation=True)\n",
        "\n",
        "    # Prepare final model data\n",
        "    X_train = train_processed.drop(['Weekly_Sales', 'Date'], axis=1)\n",
        "    y_train = train_processed['Weekly_Sales']\n",
        "    X_val = val_processed.drop('Date', axis=1)\n",
        "    train_holidays = train_processed['IsHoliday'].values.astype(bool)\n",
        "\n",
        "    # Store feature columns for later reference\n",
        "    feature_columns = list(X_train.columns)\n",
        "\n",
        "    print(f\"✅ Data preprocessing complete!\")\n",
        "    print(f\"   📊 Training shape: {X_train.shape}\")\n",
        "    print(f\"   📊 Validation shape: {X_val.shape}\")\n",
        "    print(f\"   🎯 Features: {len(feature_columns)}\")\n",
        "\n",
        "    return X_train, y_train, X_val, y_val, train_holidays, val_holidays, split_info, feature_columns\n",
        "\n"
      ],
      "metadata": {
        "id": "vbuZoEVkw724"
      },
      "execution_count": 7,
      "outputs": []
    },
    {
      "cell_type": "code",
      "source": [
        "def calculate_wmae(y_true, y_pred, is_holiday, holiday_weight=5.0):\n",
        "    \"\"\"Calculate Weighted Mean Absolute Error (WMAE)\"\"\"\n",
        "    abs_errors = np.abs(y_true - y_pred)\n",
        "    weights = np.where(is_holiday, holiday_weight, 1.0)\n",
        "    wmae = np.sum(weights * abs_errors) / np.sum(weights)\n",
        "    return wmae\n",
        "\n"
      ],
      "metadata": {
        "id": "549VT2J6w9fD"
      },
      "execution_count": 8,
      "outputs": []
    },
    {
      "cell_type": "code",
      "source": [
        "def prepare_arima_data(X_train, y_train, X_val, y_val, train_holidays, val_holidays):\n",
        "    \"\"\"Prepare data for ARIMA training on Store-Dept combinations\"\"\"\n",
        "    print(\"📊 Preparing data for ARIMA modeling...\")\n",
        "\n",
        "    # Reconstruct full datasets with dates for ARIMA\n",
        "    # We need to reload the original data to get dates back\n",
        "    pipeline = WalmartPreprocessingPipeline()\n",
        "    train_full = pipeline.load_and_prepare_data()\n",
        "    train_full = pipeline.clean_merged_data(train_full)\n",
        "    train_data, val_data, _ = pipeline.create_temporal_split(train_full)\n",
        "\n",
        "    print(f\"   📈 Train data shape: {train_data.shape}\")\n",
        "    print(f\"   📉 Val data shape: {val_data.shape}\")\n",
        "\n",
        "    # Get unique Store-Dept combinations\n",
        "    train_combinations = set(zip(train_data['Store'], train_data['Dept']))\n",
        "    val_combinations = set(zip(val_data['Store'], val_data['Dept']))\n",
        "\n",
        "    print(f\"   🏪 Train combinations: {len(train_combinations)}\")\n",
        "    print(f\"   🔮 Val combinations: {len(val_combinations)}\")\n",
        "\n",
        "    # Find missing combinations in validation\n",
        "    missing_in_val = train_combinations - val_combinations\n",
        "    missing_in_train = val_combinations - train_combinations\n",
        "\n",
        "    print(f\"   ⚠️ Missing in validation: {len(missing_in_val)}\")\n",
        "    print(f\"   ⚠️ Missing in training: {len(missing_in_train)}\")\n",
        "\n",
        "    return train_data, val_data, train_combinations, val_combinations\n",
        "\n"
      ],
      "metadata": {
        "id": "ascRnVfbw_bY"
      },
      "execution_count": 9,
      "outputs": []
    },
    {
      "cell_type": "code",
      "source": [
        "def auto_arima_order(ts_data, max_p=3, max_d=2, max_q=3):\n",
        "    \"\"\"Automatically determine ARIMA order using AIC\"\"\"\n",
        "    best_aic = float('inf')\n",
        "    best_order = (1, 1, 1)\n",
        "\n",
        "    # Simple grid search for speed\n",
        "    for p in range(max_p + 1):\n",
        "        for d in range(max_d + 1):\n",
        "            for q in range(max_q + 1):\n",
        "                try:\n",
        "                    model = ARIMA(ts_data, order=(p, d, q))\n",
        "                    fitted_model = model.fit()\n",
        "                    if fitted_model.aic < best_aic:\n",
        "                        best_aic = fitted_model.aic\n",
        "                        best_order = (p, d, q)\n",
        "                except:\n",
        "                    continue\n",
        "\n",
        "    return best_order\n",
        "\n"
      ],
      "metadata": {
        "id": "4mry99JTxBFl"
      },
      "execution_count": 10,
      "outputs": []
    },
    {
      "cell_type": "code",
      "source": [
        "def train_arima_models(train_data, val_data, feature_columns):\n",
        "    \"\"\"Train individual ARIMA models for each Store-Dept combination - OPTIMIZED FOR SPEED\"\"\"\n",
        "    print(\"📈 Training ARIMA models for each Store-Dept combination (SPEED OPTIMIZED)...\")\n",
        "\n",
        "    # Get unique combinations from training data\n",
        "    train_combinations = train_data.groupby(['Store', 'Dept']).size().index.tolist()\n",
        "    print(f\"   📊 Training models for {len(train_combinations)} combinations\")\n",
        "\n",
        "    models = {}\n",
        "    training_errors = {}\n",
        "    model_orders = {}\n",
        "\n",
        "    successful_models = 0\n",
        "    failed_models = 0\n",
        "\n",
        "    for i, (store, dept) in enumerate(train_combinations):\n",
        "        try:\n",
        "            # Filter data for this combination\n",
        "            store_dept_data = train_data[\n",
        "                (train_data['Store'] == store) &\n",
        "                (train_data['Dept'] == dept)\n",
        "            ].copy()\n",
        "\n",
        "            # Skip if insufficient data\n",
        "            if len(store_dept_data) < 10:  # Need more data for ARIMA than Prophet\n",
        "                failed_models += 1\n",
        "                continue\n",
        "\n",
        "            # Sort by date and create time series\n",
        "            store_dept_data = store_dept_data.sort_values('Date').reset_index(drop=True)\n",
        "            ts_data = store_dept_data['Weekly_Sales'].values\n",
        "\n",
        "            # Simple differencing check for stationarity\n",
        "            if adfuller(ts_data)[1] > 0.05:  # Not stationary\n",
        "                # Use (1,1,1) as default for non-stationary series\n",
        "                arima_order = (1, 1, 1)\n",
        "            else:\n",
        "                # Use (1,0,1) for stationary series\n",
        "                arima_order = (1, 0, 1)\n",
        "\n",
        "            # For some series, try auto-detection (but limit to save time)\n",
        "            if len(ts_data) > 20 and successful_models % 10 == 0:  # Only for 10% of series\n",
        "                arima_order = auto_arima_order(ts_data, max_p=2, max_d=1, max_q=2)\n",
        "\n",
        "            # Fit ARIMA model\n",
        "            model = ARIMA(ts_data, order=arima_order)\n",
        "            fitted_model = model.fit()\n",
        "\n",
        "            models[(store, dept)] = fitted_model\n",
        "            model_orders[(store, dept)] = arima_order\n",
        "            successful_models += 1\n",
        "\n",
        "            # Quick training error calculation\n",
        "            if successful_models % 50 == 0:  # Only calculate for some models to save time\n",
        "                train_pred = fitted_model.fittedvalues\n",
        "                train_mae = mean_absolute_error(ts_data, train_pred)\n",
        "                training_errors[(store, dept)] = train_mae\n",
        "\n",
        "            # Progress updates every 25 models\n",
        "            if i % 25 == 0:\n",
        "                print(f\"   ✅ Trained {i+1}/{len(train_combinations)} models\")\n",
        "\n",
        "        except Exception as e:\n",
        "            failed_models += 1\n",
        "            if failed_models < 3:  # Only print first few errors\n",
        "                print(f\"   ⚠️ Failed to train model for Store {store}, Dept {dept}: {e}\")\n",
        "\n",
        "    print(f\"✅ ARIMA training complete!\")\n",
        "    print(f\"   🎯 Successful models: {successful_models}\")\n",
        "    print(f\"   ❌ Failed models: {failed_models}\")\n",
        "\n",
        "    return models, training_errors, model_orders\n",
        "\n"
      ],
      "metadata": {
        "id": "TFSGtXcRxCcw"
      },
      "execution_count": 11,
      "outputs": []
    },
    {
      "cell_type": "code",
      "source": [
        "def make_arima_predictions(models, val_data, model_orders):\n",
        "    \"\"\"Make predictions using trained ARIMA models\"\"\"\n",
        "    print(\"📈 Making ARIMA predictions...\")\n",
        "\n",
        "    predictions = []\n",
        "    actuals = []\n",
        "    holidays = []\n",
        "    successful_predictions = 0\n",
        "    failed_predictions = 0\n",
        "\n",
        "    # Get validation combinations\n",
        "    val_combinations = val_data.groupby(['Store', 'Dept']).groups.keys()\n",
        "\n",
        "    for store, dept in val_combinations:\n",
        "        try:\n",
        "            # Check if we have a model for this combination\n",
        "            if (store, dept) not in models:\n",
        "                # Use overall mean as fallback\n",
        "                fallback_pred = val_data['Weekly_Sales'].mean()\n",
        "                store_dept_val = val_data[\n",
        "                    (val_data['Store'] == store) &\n",
        "                    (val_data['Dept'] == dept)\n",
        "                ]\n",
        "                predictions.extend([fallback_pred] * len(store_dept_val))\n",
        "                actuals.extend(store_dept_val['Weekly_Sales'].tolist())\n",
        "                holidays.extend(store_dept_val['IsHoliday'].tolist())\n",
        "                failed_predictions += len(store_dept_val)\n",
        "                continue\n",
        "\n",
        "            # Get validation data for this combination\n",
        "            store_dept_val = val_data[\n",
        "                (val_data['Store'] == store) &\n",
        "                (val_data['Dept'] == dept)\n",
        "            ].copy()\n",
        "\n",
        "            # Sort by date\n",
        "            store_dept_val = store_dept_val.sort_values('Date').reset_index(drop=True)\n",
        "\n",
        "            # Make prediction using the fitted model\n",
        "            model = models[(store, dept)]\n",
        "            n_periods = len(store_dept_val)\n",
        "\n",
        "            # Forecast future values\n",
        "            forecast = model.forecast(steps=n_periods)\n",
        "\n",
        "            # Store results\n",
        "            predictions.extend(forecast.tolist())\n",
        "            actuals.extend(store_dept_val['Weekly_Sales'].tolist())\n",
        "            holidays.extend(store_dept_val['IsHoliday'].tolist())\n",
        "            successful_predictions += len(store_dept_val)\n",
        "\n",
        "        except Exception as e:\n",
        "            # Fallback prediction\n",
        "            fallback_pred = val_data['Weekly_Sales'].mean()\n",
        "            store_dept_val = val_data[\n",
        "                (val_data['Store'] == store) &\n",
        "                (val_data['Dept'] == dept)\n",
        "            ]\n",
        "            predictions.extend([fallback_pred] * len(store_dept_val))\n",
        "            actuals.extend(store_dept_val['Weekly_Sales'].tolist())\n",
        "            holidays.extend(store_dept_val['IsHoliday'].tolist())\n",
        "            failed_predictions += len(store_dept_val)\n",
        "\n",
        "    print(f\"✅ Predictions complete!\")\n",
        "    print(f\"   🎯 Successful predictions: {successful_predictions}\")\n",
        "    print(f\"   ❌ Failed/fallback predictions: {failed_predictions}\")\n",
        "\n",
        "    return np.array(predictions), np.array(actuals), np.array(holidays)\n",
        "\n"
      ],
      "metadata": {
        "id": "yxDsq4nvxEAj"
      },
      "execution_count": 12,
      "outputs": []
    },
    {
      "cell_type": "code",
      "source": [
        "def main():\n",
        "    \"\"\"Main experiment execution\"\"\"\n",
        "    print(\"🚀 Starting Experiment 10: ARIMA with Experiment 7 Features\")\n",
        "    print(\"=\" * 80)\n",
        "\n",
        "    # Setup MLflow tracking\n",
        "    experiment_name = setup_mlflow()\n",
        "\n",
        "    with mlflow.start_run(run_name=\"ARIMA_Exp7_Features_Complete\") as run:\n",
        "        print(f\"🔄 Starting MLflow run: {run.info.run_id}\")\n",
        "\n",
        "        # Log experiment metadata\n",
        "        mlflow.log_param(\"experiment_type\", \"ARIMA_with_Exp7_Features\")\n",
        "        mlflow.log_param(\"model_type\", \"ARIMA_Individual_Models\")\n",
        "        mlflow.log_param(\"feature_engineering\", \"Experiment_7_Pipeline\")\n",
        "        mlflow.log_param(\"data_split\", \"temporal_80_20\")\n",
        "\n",
        "        try:\n",
        "            # Step 1: Get preprocessed data\n",
        "            print(\"\\n📊 Step 1: Data preprocessing...\")\n",
        "            X_train, y_train, X_val, y_val, train_holidays, val_holidays, split_info, feature_columns = get_preprocessed_data()\n",
        "\n",
        "            # Log data info\n",
        "            mlflow.log_metric(\"train_samples\", len(X_train))\n",
        "            mlflow.log_metric(\"val_samples\", len(X_val))\n",
        "            mlflow.log_metric(\"total_features\", len(feature_columns))\n",
        "            mlflow.log_param(\"split_date\", str(split_info['split_date']))\n",
        "\n",
        "            # Step 2: Prepare ARIMA-specific data\n",
        "            print(\"\\n📊 Step 2: Preparing ARIMA data...\")\n",
        "            train_data, val_data, train_combinations, val_combinations = prepare_arima_data(\n",
        "                X_train, y_train, X_val, y_val, train_holidays, val_holidays\n",
        "            )\n",
        "\n",
        "            # Log combination info\n",
        "            mlflow.log_metric(\"train_combinations\", len(train_combinations))\n",
        "            mlflow.log_metric(\"val_combinations\", len(val_combinations))\n",
        "            mlflow.log_metric(\"missing_combinations\", len(train_combinations - val_combinations))\n",
        "\n",
        "            # Step 3: Train ARIMA models\n",
        "            print(\"\\n📈 Step 3: Training ARIMA models...\")\n",
        "            models, training_errors, model_orders = train_arima_models(\n",
        "                train_data, val_data, feature_columns\n",
        "            )\n",
        "\n",
        "            # Log training info\n",
        "            mlflow.log_metric(\"successful_models\", len(models))\n",
        "            mlflow.log_metric(\"avg_training_mae\", np.mean(list(training_errors.values())) if training_errors else 0)\n",
        "            mlflow.log_metric(\"num_models\", len(models))\n",
        "\n",
        "            # Step 4: Make predictions\n",
        "            print(\"\\n📈 Step 4: Making predictions...\")\n",
        "            y_pred, y_true, is_holiday = make_arima_predictions(\n",
        "                models, val_data, model_orders\n",
        "            )\n",
        "\n",
        "            # Step 5: Calculate metrics\n",
        "            print(\"\\n📊 Step 5: Calculating metrics...\")\n",
        "\n",
        "            # Standard metrics\n",
        "            mae = mean_absolute_error(y_true, y_pred)\n",
        "            rmse = np.sqrt(mean_squared_error(y_true, y_pred))\n",
        "            r2 = r2_score(y_true, y_pred)\n",
        "\n",
        "            # WMAE (Competition metric)\n",
        "            wmae = calculate_wmae(y_true, y_pred, is_holiday)\n",
        "\n",
        "            # Holiday vs non-holiday breakdown\n",
        "            holiday_mask = is_holiday == True\n",
        "            non_holiday_mask = is_holiday == False\n",
        "\n",
        "            holiday_mae = mean_absolute_error(y_true[holiday_mask], y_pred[holiday_mask]) if holiday_mask.sum() > 0 else 0\n",
        "            non_holiday_mae = mean_absolute_error(y_true[non_holiday_mask], y_pred[non_holiday_mask]) if non_holiday_mask.sum() > 0 else 0\n",
        "\n",
        "            # Log all metrics\n",
        "            mlflow.log_metric(\"mae\", mae)\n",
        "            mlflow.log_metric(\"rmse\", rmse)\n",
        "            mlflow.log_metric(\"r2_score\", r2)\n",
        "            mlflow.log_metric(\"wmae\", wmae)\n",
        "            mlflow.log_metric(\"holiday_mae\", holiday_mae)\n",
        "            mlflow.log_metric(\"non_holiday_mae\", non_holiday_mae)\n",
        "            mlflow.log_metric(\"holiday_samples\", holiday_mask.sum())\n",
        "            mlflow.log_metric(\"non_holiday_samples\", non_holiday_mask.sum())\n",
        "\n",
        "            # Step 6: Results summary\n",
        "            print(\"\\n\" + \"=\" * 60)\n",
        "            print(\"🎯 EXPERIMENT 10 RESULTS SUMMARY\")\n",
        "            print(\"=\" * 60)\n",
        "            print(f\"📊 Validation Metrics:\")\n",
        "            print(f\"   WMAE (Competition Metric): ${wmae:,.2f}\")\n",
        "            print(f\"   MAE: ${mae:,.2f}\")\n",
        "            print(f\"   RMSE: ${rmse:,.2f}\")\n",
        "            print(f\"   R²: {r2:.4f}\")\n",
        "            print(f\"\\n📊 Holiday Breakdown:\")\n",
        "            print(f\"   Holiday MAE: ${holiday_mae:,.2f} ({holiday_mask.sum():,} samples)\")\n",
        "            print(f\"   Non-Holiday MAE: ${non_holiday_mae:,.2f} ({non_holiday_mask.sum():,} samples)\")\n",
        "            print(f\"\\n📊 Model Statistics:\")\n",
        "            print(f\"   Successful models trained: {len(models):,}\")\n",
        "            print(f\"   Store-Dept combinations: {len(train_combinations):,}\")\n",
        "            print(f\"   Features used: {len(feature_columns):,}\")\n",
        "\n",
        "            # Step 7: Save artifacts\n",
        "            print(f\"\\n💾 Saving model artifacts...\")\n",
        "\n",
        "            # Save model summary\n",
        "            model_summary = {\n",
        "                'experiment_name': experiment_name,\n",
        "                'run_id': run.info.run_id,\n",
        "                'models_trained': len(models),\n",
        "                'feature_columns': feature_columns,\n",
        "                'model_orders': {f\"{k[0]}_{k[1]}\": v for k, v in model_orders.items()},\n",
        "                'metrics': {\n",
        "                    'wmae': wmae,\n",
        "                    'mae': mae,\n",
        "                    'rmse': rmse,\n",
        "                    'r2': r2\n",
        "                }\n",
        "            }\n",
        "\n",
        "            with open('arima_exp10_summary.json', 'w') as f:\n",
        "                json.dump(model_summary, f, indent=2, default=str)\n",
        "\n",
        "            mlflow.log_artifact('arima_exp10_summary.json')\n",
        "\n",
        "            print(\"✅ Experiment 10 completed successfully!\")\n",
        "\n",
        "        except Exception as e:\n",
        "            print(f\"❌ Experiment failed: {e}\")\n",
        "            mlflow.log_param(\"error\", str(e))\n",
        "            raise\n",
        "\n",
        "    print(\"\\n🎉 Experiment 10: ARIMA with Experiment 7 Features - COMPLETE!\")\n",
        "\n"
      ],
      "metadata": {
        "id": "Cx0phUVFxF77"
      },
      "execution_count": 13,
      "outputs": []
    },
    {
      "cell_type": "code",
      "source": [
        "if __name__ == \"__main__\":\n",
        "    main()"
      ],
      "metadata": {
        "id": "BbiiLh9zxHt_",
        "outputId": "19976781-2876-4853-923b-c3025b8bf04e",
        "colab": {
          "base_uri": "https://localhost:8080/",
          "height": 1000,
          "referenced_widgets": [
            "3f24fe17b49b416da38edde1d0c307bd",
            "de5a85a3fa0a44559a3a5c63d2b7c18f"
          ]
        }
      },
      "execution_count": 14,
      "outputs": [
        {
          "output_type": "stream",
          "name": "stdout",
          "text": [
            "🚀 Starting Experiment 10: ARIMA with Experiment 7 Features\n",
            "================================================================================\n",
            "🔧 Setting up MLflow and DagsHub...\n"
          ]
        },
        {
          "output_type": "display_data",
          "data": {
            "text/plain": [
              "                                       \u001b[1m❗❗❗ AUTHORIZATION REQUIRED ❗❗❗\u001b[0m                                        \n"
            ],
            "text/html": [
              "<pre style=\"white-space:pre;overflow-x:auto;line-height:normal;font-family:Menlo,'DejaVu Sans Mono',consolas,'Courier New',monospace\">                                       <span style=\"font-weight: bold\">❗❗❗ AUTHORIZATION REQUIRED ❗❗❗</span>                                        \n",
              "</pre>\n"
            ]
          },
          "metadata": {}
        },
        {
          "output_type": "display_data",
          "data": {
            "text/plain": [
              "Output()"
            ],
            "application/vnd.jupyter.widget-view+json": {
              "version_major": 2,
              "version_minor": 0,
              "model_id": "3f24fe17b49b416da38edde1d0c307bd"
            }
          },
          "metadata": {}
        },
        {
          "output_type": "stream",
          "name": "stdout",
          "text": [
            "\n",
            "\n",
            "Open the following link in your browser to authorize the client:\n",
            "https://dagshub.com/login/oauth/authorize?state=2b2ce913-4ee3-4373-864f-bb0a443935b2&client_id=32b60ba385aa7cecf24046d8195a71c07dd345d9657977863b52e7748e0f0f28&middleman_request_id=50fc7b2384f65248a5f8a281dd0080a5124919d2c1ac4c3c1c12148e4d7645d4\n",
            "\n",
            "\n"
          ]
        },
        {
          "output_type": "display_data",
          "data": {
            "text/plain": [],
            "text/html": [
              "<pre style=\"white-space:pre;overflow-x:auto;line-height:normal;font-family:Menlo,'DejaVu Sans Mono',consolas,'Courier New',monospace\"></pre>\n"
            ]
          },
          "metadata": {}
        },
        {
          "output_type": "display_data",
          "data": {
            "text/plain": [
              "Accessing as konstantine25b\n"
            ],
            "text/html": [
              "<pre style=\"white-space:pre;overflow-x:auto;line-height:normal;font-family:Menlo,'DejaVu Sans Mono',consolas,'Courier New',monospace\">Accessing as konstantine25b\n",
              "</pre>\n"
            ]
          },
          "metadata": {}
        },
        {
          "output_type": "display_data",
          "data": {
            "text/plain": [
              "Initialized MLflow to track repo \u001b[32m\"konstantine25b/Walmart-Recruiting---Store-Sales-Forecasting\"\u001b[0m\n"
            ],
            "text/html": [
              "<pre style=\"white-space:pre;overflow-x:auto;line-height:normal;font-family:Menlo,'DejaVu Sans Mono',consolas,'Courier New',monospace\">Initialized MLflow to track repo <span style=\"color: #008000; text-decoration-color: #008000\">\"konstantine25b/Walmart-Recruiting---Store-Sales-Forecasting\"</span>\n",
              "</pre>\n"
            ]
          },
          "metadata": {}
        },
        {
          "output_type": "display_data",
          "data": {
            "text/plain": [
              "Repository konstantine25b/Walmart-Recruiting---Store-Sales-Forecasting initialized!\n"
            ],
            "text/html": [
              "<pre style=\"white-space:pre;overflow-x:auto;line-height:normal;font-family:Menlo,'DejaVu Sans Mono',consolas,'Courier New',monospace\">Repository konstantine25b/Walmart-Recruiting---Store-Sales-Forecasting initialized!\n",
              "</pre>\n"
            ]
          },
          "metadata": {}
        },
        {
          "output_type": "stream",
          "name": "stdout",
          "text": [
            "✅ DagsHub initialized successfully!\n",
            "✅ Created new experiment: Experiment_10_ARIMA_20250710_143659\n",
            "✅ MLflow setup complete!\n",
            "🔗 Tracking URI: https://dagshub.com/konstantine25b/Walmart-Recruiting---Store-Sales-Forecasting.mlflow\n",
            "📊 Experiment: Experiment_10_ARIMA_20250710_143659\n",
            "🔄 Starting MLflow run: e96d3e3a73884540811b2c55733b0fc4\n",
            "\n",
            "📊 Step 1: Data preprocessing...\n",
            "🔄 Getting preprocessed data using pipeline...\n",
            "📊 Loading datasets...\n",
            "   📈 Train data: (421570, 5)\n",
            "   🏪 Stores data: (45, 3)\n",
            "   🎯 Features data: (8190, 12)\n",
            "   ✅ Merged data: (421570, 17)\n",
            "   📅 Date range: 2010-02-05 00:00:00 to 2012-10-26 00:00:00\n",
            "🧹 Cleaning merged data...\n",
            "   🔄 Resolving duplicate IsHoliday columns...\n",
            "   ✅ Cleaned data: (421570, 16) (was (421570, 17))\n",
            "📅 Creating temporal split (80/19)...\n",
            "   📊 Split date: 2012-04-13 00:00:00\n",
            "   📈 Train: 337,256 records (2010-02-05 00:00:00 to 2012-04-13 00:00:00)\n",
            "   📉 Val: 84,314 records (2012-04-13 00:00:00 to 2012-10-26 00:00:00)\n",
            "🔧 Fitting preprocessing pipeline on training data...\n",
            "✅ Pipeline fitted on training data\n",
            "🔄 Transforming training data...\n",
            "   🔧 Encoding Type column using both one-hot and label encoding...\n",
            "   ✅ Added both Type_Encoded and ['Type_A', 'Type_B', 'Type_C']\n",
            "   🗑️ Removed 45,193 outliers from training data\n",
            "✅ Transform complete. Shape: (292063, 27)\n",
            "🔄 Transforming validation data...\n",
            "   🔧 Encoding Type column using both one-hot and label encoding...\n",
            "   ✅ Added both Type_Encoded and ['Type_A', 'Type_B', 'Type_C']\n",
            "✅ Transform complete. Shape: (84314, 26)\n",
            "✅ Data preprocessing complete!\n",
            "   📊 Training shape: (292063, 25)\n",
            "   📊 Validation shape: (84314, 25)\n",
            "   🎯 Features: 25\n",
            "\n",
            "📊 Step 2: Preparing ARIMA data...\n",
            "📊 Preparing data for ARIMA modeling...\n",
            "📊 Loading datasets...\n",
            "   📈 Train data: (421570, 5)\n",
            "   🏪 Stores data: (45, 3)\n",
            "   🎯 Features data: (8190, 12)\n",
            "   ✅ Merged data: (421570, 17)\n",
            "   📅 Date range: 2010-02-05 00:00:00 to 2012-10-26 00:00:00\n",
            "🧹 Cleaning merged data...\n",
            "   🔄 Resolving duplicate IsHoliday columns...\n",
            "   ✅ Cleaned data: (421570, 16) (was (421570, 17))\n",
            "📅 Creating temporal split (80/19)...\n",
            "   📊 Split date: 2012-04-13 00:00:00\n",
            "   📈 Train: 337,256 records (2010-02-05 00:00:00 to 2012-04-13 00:00:00)\n",
            "   📉 Val: 84,314 records (2012-04-13 00:00:00 to 2012-10-26 00:00:00)\n",
            "   📈 Train data shape: (337256, 16)\n",
            "   📉 Val data shape: (84314, 16)\n",
            "   🏪 Train combinations: 3313\n",
            "   🔮 Val combinations: 3166\n",
            "   ⚠️ Missing in validation: 165\n",
            "   ⚠️ Missing in training: 18\n",
            "\n",
            "📈 Step 3: Training ARIMA models...\n",
            "📈 Training ARIMA models for each Store-Dept combination (SPEED OPTIMIZED)...\n",
            "   📊 Training models for 3313 combinations\n",
            "   ✅ Trained 1/3313 models\n"
          ]
        },
        {
          "output_type": "stream",
          "name": "stderr",
          "text": [
            "/usr/local/lib/python3.11/dist-packages/statsmodels/base/model.py:607: ConvergenceWarning: Maximum Likelihood optimization failed to converge. Check mle_retvals\n",
            "  warnings.warn(\"Maximum Likelihood optimization failed to \"\n"
          ]
        },
        {
          "output_type": "stream",
          "name": "stdout",
          "text": [
            "   ✅ Trained 26/3313 models\n"
          ]
        },
        {
          "output_type": "stream",
          "name": "stderr",
          "text": [
            "/usr/local/lib/python3.11/dist-packages/statsmodels/base/model.py:607: ConvergenceWarning: Maximum Likelihood optimization failed to converge. Check mle_retvals\n",
            "  warnings.warn(\"Maximum Likelihood optimization failed to \"\n",
            "/usr/local/lib/python3.11/dist-packages/statsmodels/base/model.py:607: ConvergenceWarning: Maximum Likelihood optimization failed to converge. Check mle_retvals\n",
            "  warnings.warn(\"Maximum Likelihood optimization failed to \"\n"
          ]
        },
        {
          "output_type": "stream",
          "name": "stdout",
          "text": [
            "   ✅ Trained 51/3313 models\n",
            "   ✅ Trained 76/3313 models\n"
          ]
        },
        {
          "output_type": "stream",
          "name": "stderr",
          "text": [
            "/usr/local/lib/python3.11/dist-packages/statsmodels/base/model.py:607: ConvergenceWarning: Maximum Likelihood optimization failed to converge. Check mle_retvals\n",
            "  warnings.warn(\"Maximum Likelihood optimization failed to \"\n",
            "/usr/local/lib/python3.11/dist-packages/statsmodels/base/model.py:607: ConvergenceWarning: Maximum Likelihood optimization failed to converge. Check mle_retvals\n",
            "  warnings.warn(\"Maximum Likelihood optimization failed to \"\n",
            "/usr/local/lib/python3.11/dist-packages/statsmodels/base/model.py:607: ConvergenceWarning: Maximum Likelihood optimization failed to converge. Check mle_retvals\n",
            "  warnings.warn(\"Maximum Likelihood optimization failed to \"\n"
          ]
        },
        {
          "output_type": "stream",
          "name": "stdout",
          "text": [
            "   ✅ Trained 101/3313 models\n"
          ]
        },
        {
          "output_type": "stream",
          "name": "stderr",
          "text": [
            "/usr/local/lib/python3.11/dist-packages/statsmodels/base/model.py:607: ConvergenceWarning: Maximum Likelihood optimization failed to converge. Check mle_retvals\n",
            "  warnings.warn(\"Maximum Likelihood optimization failed to \"\n"
          ]
        },
        {
          "output_type": "stream",
          "name": "stdout",
          "text": [
            "   ✅ Trained 126/3313 models\n"
          ]
        },
        {
          "output_type": "stream",
          "name": "stderr",
          "text": [
            "/usr/local/lib/python3.11/dist-packages/statsmodels/base/model.py:607: ConvergenceWarning: Maximum Likelihood optimization failed to converge. Check mle_retvals\n",
            "  warnings.warn(\"Maximum Likelihood optimization failed to \"\n"
          ]
        },
        {
          "output_type": "stream",
          "name": "stdout",
          "text": [
            "   ✅ Trained 151/3313 models\n",
            "   ✅ Trained 176/3313 models\n"
          ]
        },
        {
          "output_type": "stream",
          "name": "stderr",
          "text": [
            "/usr/local/lib/python3.11/dist-packages/statsmodels/base/model.py:607: ConvergenceWarning: Maximum Likelihood optimization failed to converge. Check mle_retvals\n",
            "  warnings.warn(\"Maximum Likelihood optimization failed to \"\n"
          ]
        },
        {
          "output_type": "stream",
          "name": "stdout",
          "text": [
            "   ✅ Trained 201/3313 models\n",
            "   ✅ Trained 226/3313 models\n"
          ]
        },
        {
          "output_type": "stream",
          "name": "stderr",
          "text": [
            "/usr/local/lib/python3.11/dist-packages/statsmodels/base/model.py:607: ConvergenceWarning: Maximum Likelihood optimization failed to converge. Check mle_retvals\n",
            "  warnings.warn(\"Maximum Likelihood optimization failed to \"\n"
          ]
        },
        {
          "output_type": "stream",
          "name": "stdout",
          "text": [
            "   ✅ Trained 251/3313 models\n"
          ]
        },
        {
          "output_type": "stream",
          "name": "stderr",
          "text": [
            "/usr/local/lib/python3.11/dist-packages/statsmodels/base/model.py:607: ConvergenceWarning: Maximum Likelihood optimization failed to converge. Check mle_retvals\n",
            "  warnings.warn(\"Maximum Likelihood optimization failed to \"\n",
            "/usr/local/lib/python3.11/dist-packages/statsmodels/base/model.py:607: ConvergenceWarning: Maximum Likelihood optimization failed to converge. Check mle_retvals\n",
            "  warnings.warn(\"Maximum Likelihood optimization failed to \"\n"
          ]
        },
        {
          "output_type": "stream",
          "name": "stdout",
          "text": [
            "   ✅ Trained 276/3313 models\n",
            "   ✅ Trained 301/3313 models\n"
          ]
        },
        {
          "output_type": "stream",
          "name": "stderr",
          "text": [
            "/usr/local/lib/python3.11/dist-packages/statsmodels/base/model.py:607: ConvergenceWarning: Maximum Likelihood optimization failed to converge. Check mle_retvals\n",
            "  warnings.warn(\"Maximum Likelihood optimization failed to \"\n"
          ]
        },
        {
          "output_type": "stream",
          "name": "stdout",
          "text": [
            "   ✅ Trained 326/3313 models\n",
            "   ✅ Trained 351/3313 models\n",
            "   ✅ Trained 376/3313 models\n",
            "   ✅ Trained 401/3313 models\n"
          ]
        },
        {
          "output_type": "stream",
          "name": "stderr",
          "text": [
            "/usr/local/lib/python3.11/dist-packages/statsmodels/base/model.py:607: ConvergenceWarning: Maximum Likelihood optimization failed to converge. Check mle_retvals\n",
            "  warnings.warn(\"Maximum Likelihood optimization failed to \"\n"
          ]
        },
        {
          "output_type": "stream",
          "name": "stdout",
          "text": [
            "   ✅ Trained 426/3313 models\n"
          ]
        },
        {
          "output_type": "stream",
          "name": "stderr",
          "text": [
            "/usr/local/lib/python3.11/dist-packages/statsmodels/base/model.py:607: ConvergenceWarning: Maximum Likelihood optimization failed to converge. Check mle_retvals\n",
            "  warnings.warn(\"Maximum Likelihood optimization failed to \"\n",
            "/usr/local/lib/python3.11/dist-packages/statsmodels/base/model.py:607: ConvergenceWarning: Maximum Likelihood optimization failed to converge. Check mle_retvals\n",
            "  warnings.warn(\"Maximum Likelihood optimization failed to \"\n",
            "/usr/local/lib/python3.11/dist-packages/statsmodels/base/model.py:607: ConvergenceWarning: Maximum Likelihood optimization failed to converge. Check mle_retvals\n",
            "  warnings.warn(\"Maximum Likelihood optimization failed to \"\n"
          ]
        },
        {
          "output_type": "stream",
          "name": "stdout",
          "text": [
            "   ✅ Trained 451/3313 models\n"
          ]
        },
        {
          "output_type": "stream",
          "name": "stderr",
          "text": [
            "/usr/local/lib/python3.11/dist-packages/statsmodels/base/model.py:607: ConvergenceWarning: Maximum Likelihood optimization failed to converge. Check mle_retvals\n",
            "  warnings.warn(\"Maximum Likelihood optimization failed to \"\n"
          ]
        },
        {
          "output_type": "stream",
          "name": "stdout",
          "text": [
            "   ✅ Trained 476/3313 models\n"
          ]
        },
        {
          "output_type": "stream",
          "name": "stderr",
          "text": [
            "/usr/local/lib/python3.11/dist-packages/statsmodels/base/model.py:607: ConvergenceWarning: Maximum Likelihood optimization failed to converge. Check mle_retvals\n",
            "  warnings.warn(\"Maximum Likelihood optimization failed to \"\n",
            "/usr/local/lib/python3.11/dist-packages/statsmodels/base/model.py:607: ConvergenceWarning: Maximum Likelihood optimization failed to converge. Check mle_retvals\n",
            "  warnings.warn(\"Maximum Likelihood optimization failed to \"\n"
          ]
        },
        {
          "output_type": "stream",
          "name": "stdout",
          "text": [
            "   ✅ Trained 501/3313 models\n",
            "   ✅ Trained 526/3313 models\n"
          ]
        },
        {
          "output_type": "stream",
          "name": "stderr",
          "text": [
            "/usr/local/lib/python3.11/dist-packages/statsmodels/base/model.py:607: ConvergenceWarning: Maximum Likelihood optimization failed to converge. Check mle_retvals\n",
            "  warnings.warn(\"Maximum Likelihood optimization failed to \"\n"
          ]
        },
        {
          "output_type": "stream",
          "name": "stdout",
          "text": [
            "   ✅ Trained 551/3313 models\n"
          ]
        },
        {
          "output_type": "stream",
          "name": "stderr",
          "text": [
            "/usr/local/lib/python3.11/dist-packages/statsmodels/base/model.py:607: ConvergenceWarning: Maximum Likelihood optimization failed to converge. Check mle_retvals\n",
            "  warnings.warn(\"Maximum Likelihood optimization failed to \"\n",
            "/usr/local/lib/python3.11/dist-packages/statsmodels/base/model.py:607: ConvergenceWarning: Maximum Likelihood optimization failed to converge. Check mle_retvals\n",
            "  warnings.warn(\"Maximum Likelihood optimization failed to \"\n"
          ]
        },
        {
          "output_type": "stream",
          "name": "stdout",
          "text": [
            "   ✅ Trained 576/3313 models\n"
          ]
        },
        {
          "output_type": "stream",
          "name": "stderr",
          "text": [
            "/usr/local/lib/python3.11/dist-packages/statsmodels/base/model.py:607: ConvergenceWarning: Maximum Likelihood optimization failed to converge. Check mle_retvals\n",
            "  warnings.warn(\"Maximum Likelihood optimization failed to \"\n",
            "/usr/local/lib/python3.11/dist-packages/statsmodels/base/model.py:607: ConvergenceWarning: Maximum Likelihood optimization failed to converge. Check mle_retvals\n",
            "  warnings.warn(\"Maximum Likelihood optimization failed to \"\n"
          ]
        },
        {
          "output_type": "stream",
          "name": "stdout",
          "text": [
            "   ✅ Trained 626/3313 models\n",
            "   ✅ Trained 651/3313 models\n"
          ]
        },
        {
          "output_type": "stream",
          "name": "stderr",
          "text": [
            "/usr/local/lib/python3.11/dist-packages/statsmodels/base/model.py:607: ConvergenceWarning: Maximum Likelihood optimization failed to converge. Check mle_retvals\n",
            "  warnings.warn(\"Maximum Likelihood optimization failed to \"\n"
          ]
        },
        {
          "output_type": "stream",
          "name": "stdout",
          "text": [
            "   ✅ Trained 701/3313 models\n",
            "   ✅ Trained 726/3313 models\n"
          ]
        },
        {
          "output_type": "stream",
          "name": "stderr",
          "text": [
            "/usr/local/lib/python3.11/dist-packages/statsmodels/base/model.py:607: ConvergenceWarning: Maximum Likelihood optimization failed to converge. Check mle_retvals\n",
            "  warnings.warn(\"Maximum Likelihood optimization failed to \"\n"
          ]
        },
        {
          "output_type": "stream",
          "name": "stdout",
          "text": [
            "   ✅ Trained 751/3313 models\n",
            "   ✅ Trained 776/3313 models\n"
          ]
        },
        {
          "output_type": "stream",
          "name": "stderr",
          "text": [
            "/usr/local/lib/python3.11/dist-packages/statsmodels/base/model.py:607: ConvergenceWarning: Maximum Likelihood optimization failed to converge. Check mle_retvals\n",
            "  warnings.warn(\"Maximum Likelihood optimization failed to \"\n"
          ]
        },
        {
          "output_type": "stream",
          "name": "stdout",
          "text": [
            "   ✅ Trained 826/3313 models\n"
          ]
        },
        {
          "output_type": "stream",
          "name": "stderr",
          "text": [
            "/usr/local/lib/python3.11/dist-packages/statsmodels/base/model.py:607: ConvergenceWarning: Maximum Likelihood optimization failed to converge. Check mle_retvals\n",
            "  warnings.warn(\"Maximum Likelihood optimization failed to \"\n",
            "/usr/local/lib/python3.11/dist-packages/statsmodels/base/model.py:607: ConvergenceWarning: Maximum Likelihood optimization failed to converge. Check mle_retvals\n",
            "  warnings.warn(\"Maximum Likelihood optimization failed to \"\n"
          ]
        },
        {
          "output_type": "stream",
          "name": "stdout",
          "text": [
            "   ✅ Trained 851/3313 models\n"
          ]
        },
        {
          "output_type": "stream",
          "name": "stderr",
          "text": [
            "/usr/local/lib/python3.11/dist-packages/statsmodels/base/model.py:607: ConvergenceWarning: Maximum Likelihood optimization failed to converge. Check mle_retvals\n",
            "  warnings.warn(\"Maximum Likelihood optimization failed to \"\n",
            "/usr/local/lib/python3.11/dist-packages/statsmodels/base/model.py:607: ConvergenceWarning: Maximum Likelihood optimization failed to converge. Check mle_retvals\n",
            "  warnings.warn(\"Maximum Likelihood optimization failed to \"\n",
            "/usr/local/lib/python3.11/dist-packages/statsmodels/base/model.py:607: ConvergenceWarning: Maximum Likelihood optimization failed to converge. Check mle_retvals\n",
            "  warnings.warn(\"Maximum Likelihood optimization failed to \"\n",
            "/usr/local/lib/python3.11/dist-packages/statsmodels/base/model.py:607: ConvergenceWarning: Maximum Likelihood optimization failed to converge. Check mle_retvals\n",
            "  warnings.warn(\"Maximum Likelihood optimization failed to \"\n"
          ]
        },
        {
          "output_type": "stream",
          "name": "stdout",
          "text": [
            "   ✅ Trained 876/3313 models\n"
          ]
        },
        {
          "output_type": "stream",
          "name": "stderr",
          "text": [
            "/usr/local/lib/python3.11/dist-packages/statsmodels/base/model.py:607: ConvergenceWarning: Maximum Likelihood optimization failed to converge. Check mle_retvals\n",
            "  warnings.warn(\"Maximum Likelihood optimization failed to \"\n"
          ]
        },
        {
          "output_type": "stream",
          "name": "stdout",
          "text": [
            "   ✅ Trained 901/3313 models\n"
          ]
        },
        {
          "output_type": "stream",
          "name": "stderr",
          "text": [
            "/usr/local/lib/python3.11/dist-packages/statsmodels/base/model.py:607: ConvergenceWarning: Maximum Likelihood optimization failed to converge. Check mle_retvals\n",
            "  warnings.warn(\"Maximum Likelihood optimization failed to \"\n",
            "/usr/local/lib/python3.11/dist-packages/statsmodels/base/model.py:607: ConvergenceWarning: Maximum Likelihood optimization failed to converge. Check mle_retvals\n",
            "  warnings.warn(\"Maximum Likelihood optimization failed to \"\n"
          ]
        },
        {
          "output_type": "stream",
          "name": "stdout",
          "text": [
            "   ✅ Trained 926/3313 models\n"
          ]
        },
        {
          "output_type": "stream",
          "name": "stderr",
          "text": [
            "/usr/local/lib/python3.11/dist-packages/statsmodels/base/model.py:607: ConvergenceWarning: Maximum Likelihood optimization failed to converge. Check mle_retvals\n",
            "  warnings.warn(\"Maximum Likelihood optimization failed to \"\n",
            "/usr/local/lib/python3.11/dist-packages/statsmodels/base/model.py:607: ConvergenceWarning: Maximum Likelihood optimization failed to converge. Check mle_retvals\n",
            "  warnings.warn(\"Maximum Likelihood optimization failed to \"\n"
          ]
        },
        {
          "output_type": "stream",
          "name": "stdout",
          "text": [
            "   ✅ Trained 976/3313 models\n",
            "   ✅ Trained 1001/3313 models\n",
            "   ✅ Trained 1026/3313 models\n"
          ]
        },
        {
          "output_type": "stream",
          "name": "stderr",
          "text": [
            "/usr/local/lib/python3.11/dist-packages/statsmodels/base/model.py:607: ConvergenceWarning: Maximum Likelihood optimization failed to converge. Check mle_retvals\n",
            "  warnings.warn(\"Maximum Likelihood optimization failed to \"\n",
            "/usr/local/lib/python3.11/dist-packages/statsmodels/base/model.py:607: ConvergenceWarning: Maximum Likelihood optimization failed to converge. Check mle_retvals\n",
            "  warnings.warn(\"Maximum Likelihood optimization failed to \"\n"
          ]
        },
        {
          "output_type": "stream",
          "name": "stdout",
          "text": [
            "   ✅ Trained 1051/3313 models\n",
            "   ✅ Trained 1076/3313 models\n",
            "   ✅ Trained 1101/3313 models\n"
          ]
        },
        {
          "output_type": "stream",
          "name": "stderr",
          "text": [
            "/usr/local/lib/python3.11/dist-packages/statsmodels/base/model.py:607: ConvergenceWarning: Maximum Likelihood optimization failed to converge. Check mle_retvals\n",
            "  warnings.warn(\"Maximum Likelihood optimization failed to \"\n"
          ]
        },
        {
          "output_type": "stream",
          "name": "stdout",
          "text": [
            "   ✅ Trained 1126/3313 models\n"
          ]
        },
        {
          "output_type": "stream",
          "name": "stderr",
          "text": [
            "/usr/local/lib/python3.11/dist-packages/statsmodels/base/model.py:607: ConvergenceWarning: Maximum Likelihood optimization failed to converge. Check mle_retvals\n",
            "  warnings.warn(\"Maximum Likelihood optimization failed to \"\n"
          ]
        },
        {
          "output_type": "stream",
          "name": "stdout",
          "text": [
            "   ✅ Trained 1151/3313 models\n",
            "   ✅ Trained 1176/3313 models\n",
            "   ✅ Trained 1201/3313 models\n"
          ]
        },
        {
          "output_type": "stream",
          "name": "stderr",
          "text": [
            "/usr/local/lib/python3.11/dist-packages/statsmodels/base/model.py:607: ConvergenceWarning: Maximum Likelihood optimization failed to converge. Check mle_retvals\n",
            "  warnings.warn(\"Maximum Likelihood optimization failed to \"\n"
          ]
        },
        {
          "output_type": "stream",
          "name": "stdout",
          "text": [
            "   ✅ Trained 1226/3313 models\n",
            "   ✅ Trained 1251/3313 models\n",
            "   ✅ Trained 1276/3313 models\n",
            "   ✅ Trained 1301/3313 models\n",
            "   ✅ Trained 1326/3313 models\n",
            "   ✅ Trained 1351/3313 models\n"
          ]
        },
        {
          "output_type": "stream",
          "name": "stderr",
          "text": [
            "/usr/local/lib/python3.11/dist-packages/statsmodels/base/model.py:607: ConvergenceWarning: Maximum Likelihood optimization failed to converge. Check mle_retvals\n",
            "  warnings.warn(\"Maximum Likelihood optimization failed to \"\n"
          ]
        },
        {
          "output_type": "stream",
          "name": "stdout",
          "text": [
            "   ✅ Trained 1376/3313 models\n",
            "   ✅ Trained 1401/3313 models\n"
          ]
        },
        {
          "output_type": "stream",
          "name": "stderr",
          "text": [
            "/usr/local/lib/python3.11/dist-packages/statsmodels/base/model.py:607: ConvergenceWarning: Maximum Likelihood optimization failed to converge. Check mle_retvals\n",
            "  warnings.warn(\"Maximum Likelihood optimization failed to \"\n"
          ]
        },
        {
          "output_type": "stream",
          "name": "stdout",
          "text": [
            "   ✅ Trained 1426/3313 models\n",
            "   ✅ Trained 1451/3313 models\n",
            "   ✅ Trained 1476/3313 models\n"
          ]
        },
        {
          "output_type": "stream",
          "name": "stderr",
          "text": [
            "/usr/local/lib/python3.11/dist-packages/statsmodels/base/model.py:607: ConvergenceWarning: Maximum Likelihood optimization failed to converge. Check mle_retvals\n",
            "  warnings.warn(\"Maximum Likelihood optimization failed to \"\n"
          ]
        },
        {
          "output_type": "stream",
          "name": "stdout",
          "text": [
            "   ✅ Trained 1501/3313 models\n",
            "   ✅ Trained 1526/3313 models\n"
          ]
        },
        {
          "output_type": "stream",
          "name": "stderr",
          "text": [
            "/usr/local/lib/python3.11/dist-packages/statsmodels/base/model.py:607: ConvergenceWarning: Maximum Likelihood optimization failed to converge. Check mle_retvals\n",
            "  warnings.warn(\"Maximum Likelihood optimization failed to \"\n"
          ]
        },
        {
          "output_type": "stream",
          "name": "stdout",
          "text": [
            "   ✅ Trained 1551/3313 models\n"
          ]
        },
        {
          "output_type": "stream",
          "name": "stderr",
          "text": [
            "/usr/local/lib/python3.11/dist-packages/statsmodels/base/model.py:607: ConvergenceWarning: Maximum Likelihood optimization failed to converge. Check mle_retvals\n",
            "  warnings.warn(\"Maximum Likelihood optimization failed to \"\n",
            "/usr/local/lib/python3.11/dist-packages/statsmodels/base/model.py:607: ConvergenceWarning: Maximum Likelihood optimization failed to converge. Check mle_retvals\n",
            "  warnings.warn(\"Maximum Likelihood optimization failed to \"\n"
          ]
        },
        {
          "output_type": "stream",
          "name": "stdout",
          "text": [
            "   ✅ Trained 1576/3313 models\n"
          ]
        },
        {
          "output_type": "stream",
          "name": "stderr",
          "text": [
            "/usr/local/lib/python3.11/dist-packages/statsmodels/base/model.py:607: ConvergenceWarning: Maximum Likelihood optimization failed to converge. Check mle_retvals\n",
            "  warnings.warn(\"Maximum Likelihood optimization failed to \"\n",
            "/usr/local/lib/python3.11/dist-packages/statsmodels/base/model.py:607: ConvergenceWarning: Maximum Likelihood optimization failed to converge. Check mle_retvals\n",
            "  warnings.warn(\"Maximum Likelihood optimization failed to \"\n"
          ]
        },
        {
          "output_type": "stream",
          "name": "stdout",
          "text": [
            "   ✅ Trained 1601/3313 models\n"
          ]
        },
        {
          "output_type": "stream",
          "name": "stderr",
          "text": [
            "/usr/local/lib/python3.11/dist-packages/statsmodels/base/model.py:607: ConvergenceWarning: Maximum Likelihood optimization failed to converge. Check mle_retvals\n",
            "  warnings.warn(\"Maximum Likelihood optimization failed to \"\n"
          ]
        },
        {
          "output_type": "stream",
          "name": "stdout",
          "text": [
            "   ✅ Trained 1626/3313 models\n",
            "   ✅ Trained 1651/3313 models\n"
          ]
        },
        {
          "output_type": "stream",
          "name": "stderr",
          "text": [
            "/usr/local/lib/python3.11/dist-packages/statsmodels/base/model.py:607: ConvergenceWarning: Maximum Likelihood optimization failed to converge. Check mle_retvals\n",
            "  warnings.warn(\"Maximum Likelihood optimization failed to \"\n",
            "/usr/local/lib/python3.11/dist-packages/statsmodels/base/model.py:607: ConvergenceWarning: Maximum Likelihood optimization failed to converge. Check mle_retvals\n",
            "  warnings.warn(\"Maximum Likelihood optimization failed to \"\n"
          ]
        },
        {
          "output_type": "stream",
          "name": "stdout",
          "text": [
            "   ✅ Trained 1701/3313 models\n",
            "   ✅ Trained 1726/3313 models\n",
            "   ✅ Trained 1751/3313 models\n",
            "   ✅ Trained 1776/3313 models\n",
            "   ✅ Trained 1801/3313 models\n",
            "   ✅ Trained 1826/3313 models\n"
          ]
        },
        {
          "output_type": "stream",
          "name": "stderr",
          "text": [
            "/usr/local/lib/python3.11/dist-packages/statsmodels/base/model.py:607: ConvergenceWarning: Maximum Likelihood optimization failed to converge. Check mle_retvals\n",
            "  warnings.warn(\"Maximum Likelihood optimization failed to \"\n"
          ]
        },
        {
          "output_type": "stream",
          "name": "stdout",
          "text": [
            "   ✅ Trained 1851/3313 models\n",
            "   ✅ Trained 1876/3313 models\n",
            "   ✅ Trained 1901/3313 models\n",
            "   ✅ Trained 1926/3313 models\n",
            "   ✅ Trained 1951/3313 models\n"
          ]
        },
        {
          "output_type": "stream",
          "name": "stderr",
          "text": [
            "/usr/local/lib/python3.11/dist-packages/statsmodels/base/model.py:607: ConvergenceWarning: Maximum Likelihood optimization failed to converge. Check mle_retvals\n",
            "  warnings.warn(\"Maximum Likelihood optimization failed to \"\n"
          ]
        },
        {
          "output_type": "stream",
          "name": "stdout",
          "text": [
            "   ✅ Trained 1976/3313 models\n"
          ]
        },
        {
          "output_type": "stream",
          "name": "stderr",
          "text": [
            "/usr/local/lib/python3.11/dist-packages/statsmodels/base/model.py:607: ConvergenceWarning: Maximum Likelihood optimization failed to converge. Check mle_retvals\n",
            "  warnings.warn(\"Maximum Likelihood optimization failed to \"\n",
            "/usr/local/lib/python3.11/dist-packages/statsmodels/base/model.py:607: ConvergenceWarning: Maximum Likelihood optimization failed to converge. Check mle_retvals\n",
            "  warnings.warn(\"Maximum Likelihood optimization failed to \"\n"
          ]
        },
        {
          "output_type": "stream",
          "name": "stdout",
          "text": [
            "   ✅ Trained 2001/3313 models\n"
          ]
        },
        {
          "output_type": "stream",
          "name": "stderr",
          "text": [
            "/usr/local/lib/python3.11/dist-packages/statsmodels/base/model.py:607: ConvergenceWarning: Maximum Likelihood optimization failed to converge. Check mle_retvals\n",
            "  warnings.warn(\"Maximum Likelihood optimization failed to \"\n"
          ]
        },
        {
          "output_type": "stream",
          "name": "stdout",
          "text": [
            "   ✅ Trained 2026/3313 models\n"
          ]
        },
        {
          "output_type": "stream",
          "name": "stderr",
          "text": [
            "/usr/local/lib/python3.11/dist-packages/statsmodels/base/model.py:607: ConvergenceWarning: Maximum Likelihood optimization failed to converge. Check mle_retvals\n",
            "  warnings.warn(\"Maximum Likelihood optimization failed to \"\n"
          ]
        },
        {
          "output_type": "stream",
          "name": "stdout",
          "text": [
            "   ✅ Trained 2051/3313 models\n",
            "   ✅ Trained 2076/3313 models\n",
            "   ✅ Trained 2101/3313 models\n"
          ]
        },
        {
          "output_type": "stream",
          "name": "stderr",
          "text": [
            "/usr/local/lib/python3.11/dist-packages/statsmodels/base/model.py:607: ConvergenceWarning: Maximum Likelihood optimization failed to converge. Check mle_retvals\n",
            "  warnings.warn(\"Maximum Likelihood optimization failed to \"\n",
            "/usr/local/lib/python3.11/dist-packages/statsmodels/base/model.py:607: ConvergenceWarning: Maximum Likelihood optimization failed to converge. Check mle_retvals\n",
            "  warnings.warn(\"Maximum Likelihood optimization failed to \"\n"
          ]
        },
        {
          "output_type": "stream",
          "name": "stdout",
          "text": [
            "   ✅ Trained 2126/3313 models\n",
            "   ✅ Trained 2151/3313 models\n"
          ]
        },
        {
          "output_type": "stream",
          "name": "stderr",
          "text": [
            "/usr/local/lib/python3.11/dist-packages/statsmodels/base/model.py:607: ConvergenceWarning: Maximum Likelihood optimization failed to converge. Check mle_retvals\n",
            "  warnings.warn(\"Maximum Likelihood optimization failed to \"\n"
          ]
        },
        {
          "output_type": "stream",
          "name": "stdout",
          "text": [
            "   ✅ Trained 2201/3313 models\n"
          ]
        },
        {
          "output_type": "stream",
          "name": "stderr",
          "text": [
            "/usr/local/lib/python3.11/dist-packages/statsmodels/base/model.py:607: ConvergenceWarning: Maximum Likelihood optimization failed to converge. Check mle_retvals\n",
            "  warnings.warn(\"Maximum Likelihood optimization failed to \"\n"
          ]
        },
        {
          "output_type": "stream",
          "name": "stdout",
          "text": [
            "   ✅ Trained 2226/3313 models\n",
            "   ✅ Trained 2251/3313 models\n"
          ]
        },
        {
          "output_type": "stream",
          "name": "stderr",
          "text": [
            "/usr/local/lib/python3.11/dist-packages/statsmodels/base/model.py:607: ConvergenceWarning: Maximum Likelihood optimization failed to converge. Check mle_retvals\n",
            "  warnings.warn(\"Maximum Likelihood optimization failed to \"\n"
          ]
        },
        {
          "output_type": "stream",
          "name": "stdout",
          "text": [
            "   ✅ Trained 2301/3313 models\n"
          ]
        },
        {
          "output_type": "stream",
          "name": "stderr",
          "text": [
            "/usr/local/lib/python3.11/dist-packages/statsmodels/base/model.py:607: ConvergenceWarning: Maximum Likelihood optimization failed to converge. Check mle_retvals\n",
            "  warnings.warn(\"Maximum Likelihood optimization failed to \"\n",
            "/usr/local/lib/python3.11/dist-packages/statsmodels/base/model.py:607: ConvergenceWarning: Maximum Likelihood optimization failed to converge. Check mle_retvals\n",
            "  warnings.warn(\"Maximum Likelihood optimization failed to \"\n"
          ]
        },
        {
          "output_type": "stream",
          "name": "stdout",
          "text": [
            "   ✅ Trained 2326/3313 models\n",
            "   ✅ Trained 2351/3313 models\n"
          ]
        },
        {
          "output_type": "stream",
          "name": "stderr",
          "text": [
            "/usr/local/lib/python3.11/dist-packages/statsmodels/base/model.py:607: ConvergenceWarning: Maximum Likelihood optimization failed to converge. Check mle_retvals\n",
            "  warnings.warn(\"Maximum Likelihood optimization failed to \"\n",
            "/usr/local/lib/python3.11/dist-packages/statsmodels/base/model.py:607: ConvergenceWarning: Maximum Likelihood optimization failed to converge. Check mle_retvals\n",
            "  warnings.warn(\"Maximum Likelihood optimization failed to \"\n",
            "/usr/local/lib/python3.11/dist-packages/statsmodels/base/model.py:607: ConvergenceWarning: Maximum Likelihood optimization failed to converge. Check mle_retvals\n",
            "  warnings.warn(\"Maximum Likelihood optimization failed to \"\n"
          ]
        },
        {
          "output_type": "stream",
          "name": "stdout",
          "text": [
            "   ✅ Trained 2376/3313 models\n"
          ]
        },
        {
          "output_type": "stream",
          "name": "stderr",
          "text": [
            "/usr/local/lib/python3.11/dist-packages/statsmodels/base/model.py:607: ConvergenceWarning: Maximum Likelihood optimization failed to converge. Check mle_retvals\n",
            "  warnings.warn(\"Maximum Likelihood optimization failed to \"\n",
            "/usr/local/lib/python3.11/dist-packages/statsmodels/base/model.py:607: ConvergenceWarning: Maximum Likelihood optimization failed to converge. Check mle_retvals\n",
            "  warnings.warn(\"Maximum Likelihood optimization failed to \"\n",
            "/usr/local/lib/python3.11/dist-packages/statsmodels/base/model.py:607: ConvergenceWarning: Maximum Likelihood optimization failed to converge. Check mle_retvals\n",
            "  warnings.warn(\"Maximum Likelihood optimization failed to \"\n"
          ]
        },
        {
          "output_type": "stream",
          "name": "stdout",
          "text": [
            "   ✅ Trained 2401/3313 models\n",
            "   ✅ Trained 2426/3313 models\n"
          ]
        },
        {
          "output_type": "stream",
          "name": "stderr",
          "text": [
            "/usr/local/lib/python3.11/dist-packages/statsmodels/base/model.py:607: ConvergenceWarning: Maximum Likelihood optimization failed to converge. Check mle_retvals\n",
            "  warnings.warn(\"Maximum Likelihood optimization failed to \"\n"
          ]
        },
        {
          "output_type": "stream",
          "name": "stdout",
          "text": [
            "   ✅ Trained 2451/3313 models\n",
            "   ✅ Trained 2476/3313 models\n"
          ]
        },
        {
          "output_type": "stream",
          "name": "stderr",
          "text": [
            "/usr/local/lib/python3.11/dist-packages/statsmodels/base/model.py:607: ConvergenceWarning: Maximum Likelihood optimization failed to converge. Check mle_retvals\n",
            "  warnings.warn(\"Maximum Likelihood optimization failed to \"\n",
            "/usr/local/lib/python3.11/dist-packages/statsmodels/base/model.py:607: ConvergenceWarning: Maximum Likelihood optimization failed to converge. Check mle_retvals\n",
            "  warnings.warn(\"Maximum Likelihood optimization failed to \"\n"
          ]
        },
        {
          "output_type": "stream",
          "name": "stdout",
          "text": [
            "   ✅ Trained 2501/3313 models\n"
          ]
        },
        {
          "output_type": "stream",
          "name": "stderr",
          "text": [
            "/usr/local/lib/python3.11/dist-packages/statsmodels/base/model.py:607: ConvergenceWarning: Maximum Likelihood optimization failed to converge. Check mle_retvals\n",
            "  warnings.warn(\"Maximum Likelihood optimization failed to \"\n"
          ]
        },
        {
          "output_type": "stream",
          "name": "stdout",
          "text": [
            "   ✅ Trained 2526/3313 models\n",
            "   ✅ Trained 2576/3313 models\n"
          ]
        },
        {
          "output_type": "stream",
          "name": "stderr",
          "text": [
            "/usr/local/lib/python3.11/dist-packages/statsmodels/base/model.py:607: ConvergenceWarning: Maximum Likelihood optimization failed to converge. Check mle_retvals\n",
            "  warnings.warn(\"Maximum Likelihood optimization failed to \"\n"
          ]
        },
        {
          "output_type": "stream",
          "name": "stdout",
          "text": [
            "   ✅ Trained 2601/3313 models\n"
          ]
        },
        {
          "output_type": "stream",
          "name": "stderr",
          "text": [
            "/usr/local/lib/python3.11/dist-packages/statsmodels/base/model.py:607: ConvergenceWarning: Maximum Likelihood optimization failed to converge. Check mle_retvals\n",
            "  warnings.warn(\"Maximum Likelihood optimization failed to \"\n"
          ]
        },
        {
          "output_type": "stream",
          "name": "stdout",
          "text": [
            "   ✅ Trained 2651/3313 models\n",
            "   ✅ Trained 2676/3313 models\n"
          ]
        },
        {
          "output_type": "stream",
          "name": "stderr",
          "text": [
            "/usr/local/lib/python3.11/dist-packages/statsmodels/base/model.py:607: ConvergenceWarning: Maximum Likelihood optimization failed to converge. Check mle_retvals\n",
            "  warnings.warn(\"Maximum Likelihood optimization failed to \"\n"
          ]
        },
        {
          "output_type": "stream",
          "name": "stdout",
          "text": [
            "   ✅ Trained 2701/3313 models\n"
          ]
        },
        {
          "output_type": "stream",
          "name": "stderr",
          "text": [
            "/usr/local/lib/python3.11/dist-packages/statsmodels/base/model.py:607: ConvergenceWarning: Maximum Likelihood optimization failed to converge. Check mle_retvals\n",
            "  warnings.warn(\"Maximum Likelihood optimization failed to \"\n"
          ]
        },
        {
          "output_type": "stream",
          "name": "stdout",
          "text": [
            "   ✅ Trained 2726/3313 models\n",
            "   ✅ Trained 2751/3313 models\n"
          ]
        },
        {
          "output_type": "stream",
          "name": "stderr",
          "text": [
            "/usr/local/lib/python3.11/dist-packages/statsmodels/base/model.py:607: ConvergenceWarning: Maximum Likelihood optimization failed to converge. Check mle_retvals\n",
            "  warnings.warn(\"Maximum Likelihood optimization failed to \"\n",
            "/usr/local/lib/python3.11/dist-packages/statsmodels/base/model.py:607: ConvergenceWarning: Maximum Likelihood optimization failed to converge. Check mle_retvals\n",
            "  warnings.warn(\"Maximum Likelihood optimization failed to \"\n"
          ]
        },
        {
          "output_type": "stream",
          "name": "stdout",
          "text": [
            "   ✅ Trained 2776/3313 models\n"
          ]
        },
        {
          "output_type": "stream",
          "name": "stderr",
          "text": [
            "/usr/local/lib/python3.11/dist-packages/statsmodels/base/model.py:607: ConvergenceWarning: Maximum Likelihood optimization failed to converge. Check mle_retvals\n",
            "  warnings.warn(\"Maximum Likelihood optimization failed to \"\n",
            "/usr/local/lib/python3.11/dist-packages/statsmodels/base/model.py:607: ConvergenceWarning: Maximum Likelihood optimization failed to converge. Check mle_retvals\n",
            "  warnings.warn(\"Maximum Likelihood optimization failed to \"\n",
            "/usr/local/lib/python3.11/dist-packages/statsmodels/base/model.py:607: ConvergenceWarning: Maximum Likelihood optimization failed to converge. Check mle_retvals\n",
            "  warnings.warn(\"Maximum Likelihood optimization failed to \"\n",
            "/usr/local/lib/python3.11/dist-packages/statsmodels/base/model.py:607: ConvergenceWarning: Maximum Likelihood optimization failed to converge. Check mle_retvals\n",
            "  warnings.warn(\"Maximum Likelihood optimization failed to \"\n"
          ]
        },
        {
          "output_type": "stream",
          "name": "stdout",
          "text": [
            "   ✅ Trained 2851/3313 models\n"
          ]
        },
        {
          "output_type": "stream",
          "name": "stderr",
          "text": [
            "/usr/local/lib/python3.11/dist-packages/statsmodels/base/model.py:607: ConvergenceWarning: Maximum Likelihood optimization failed to converge. Check mle_retvals\n",
            "  warnings.warn(\"Maximum Likelihood optimization failed to \"\n",
            "/usr/local/lib/python3.11/dist-packages/statsmodels/base/model.py:607: ConvergenceWarning: Maximum Likelihood optimization failed to converge. Check mle_retvals\n",
            "  warnings.warn(\"Maximum Likelihood optimization failed to \"\n"
          ]
        },
        {
          "output_type": "stream",
          "name": "stdout",
          "text": [
            "   ✅ Trained 2876/3313 models\n",
            "   ✅ Trained 2901/3313 models\n",
            "   ✅ Trained 2926/3313 models\n"
          ]
        },
        {
          "output_type": "stream",
          "name": "stderr",
          "text": [
            "/usr/local/lib/python3.11/dist-packages/statsmodels/base/model.py:607: ConvergenceWarning: Maximum Likelihood optimization failed to converge. Check mle_retvals\n",
            "  warnings.warn(\"Maximum Likelihood optimization failed to \"\n"
          ]
        },
        {
          "output_type": "stream",
          "name": "stdout",
          "text": [
            "   ✅ Trained 2951/3313 models\n",
            "   ✅ Trained 2976/3313 models\n",
            "   ✅ Trained 3001/3313 models\n",
            "   ✅ Trained 3026/3313 models\n",
            "   ✅ Trained 3051/3313 models\n",
            "   ✅ Trained 3076/3313 models\n",
            "   ✅ Trained 3101/3313 models\n",
            "   ✅ Trained 3126/3313 models\n",
            "   ✅ Trained 3176/3313 models\n"
          ]
        },
        {
          "output_type": "stream",
          "name": "stderr",
          "text": [
            "/usr/local/lib/python3.11/dist-packages/statsmodels/base/model.py:607: ConvergenceWarning: Maximum Likelihood optimization failed to converge. Check mle_retvals\n",
            "  warnings.warn(\"Maximum Likelihood optimization failed to \"\n"
          ]
        },
        {
          "output_type": "stream",
          "name": "stdout",
          "text": [
            "   ✅ Trained 3226/3313 models\n",
            "   ✅ Trained 3251/3313 models\n",
            "   ✅ Trained 3276/3313 models\n",
            "   ✅ Trained 3301/3313 models\n",
            "✅ ARIMA training complete!\n",
            "   🎯 Successful models: 3139\n",
            "   ❌ Failed models: 174\n",
            "\n",
            "📈 Step 4: Making predictions...\n",
            "📈 Making ARIMA predictions...\n",
            "✅ Predictions complete!\n",
            "   🎯 Successful predictions: 83920\n",
            "   ❌ Failed/fallback predictions: 394\n",
            "\n",
            "📊 Step 5: Calculating metrics...\n",
            "\n",
            "============================================================\n",
            "🎯 EXPERIMENT 10 RESULTS SUMMARY\n",
            "============================================================\n",
            "📊 Validation Metrics:\n",
            "   WMAE (Competition Metric): $2,589.86\n",
            "   MAE: $2,546.16\n",
            "   RMSE: $5,267.98\n",
            "   R²: 0.9424\n",
            "\n",
            "📊 Holiday Breakdown:\n",
            "   Holiday MAE: $2,900.41 (2,966 samples)\n",
            "   Non-Holiday MAE: $2,533.24 (81,348 samples)\n",
            "\n",
            "📊 Model Statistics:\n",
            "   Successful models trained: 3,139\n",
            "   Store-Dept combinations: 3,313\n",
            "   Features used: 25\n",
            "\n",
            "💾 Saving model artifacts...\n",
            "✅ Experiment 10 completed successfully!\n",
            "🏃 View run ARIMA_Exp7_Features_Complete at: https://dagshub.com/konstantine25b/Walmart-Recruiting---Store-Sales-Forecasting.mlflow/#/experiments/37/runs/e96d3e3a73884540811b2c55733b0fc4\n",
            "🧪 View experiment at: https://dagshub.com/konstantine25b/Walmart-Recruiting---Store-Sales-Forecasting.mlflow/#/experiments/37\n",
            "\n",
            "🎉 Experiment 10: ARIMA with Experiment 7 Features - COMPLETE!\n"
          ]
        }
      ]
    }
  ],
  "metadata": {
    "language_info": {
      "name": "python"
    },
    "colab": {
      "provenance": []
    },
    "kernelspec": {
      "name": "python3",
      "display_name": "Python 3"
    },
    "widgets": {
      "application/vnd.jupyter.widget-state+json": {
        "3f24fe17b49b416da38edde1d0c307bd": {
          "model_module": "@jupyter-widgets/output",
          "model_name": "OutputModel",
          "model_module_version": "1.0.0",
          "state": {
            "_dom_classes": [],
            "_model_module": "@jupyter-widgets/output",
            "_model_module_version": "1.0.0",
            "_model_name": "OutputModel",
            "_view_count": null,
            "_view_module": "@jupyter-widgets/output",
            "_view_module_version": "1.0.0",
            "_view_name": "OutputView",
            "layout": "IPY_MODEL_de5a85a3fa0a44559a3a5c63d2b7c18f",
            "msg_id": "",
            "outputs": [
              {
                "output_type": "display_data",
                "data": {
                  "text/plain": "\u001b[32m⠏\u001b[0m Waiting for authorization\n",
                  "text/html": "<pre style=\"white-space:pre;overflow-x:auto;line-height:normal;font-family:Menlo,'DejaVu Sans Mono',consolas,'Courier New',monospace\"><span style=\"color: #008000; text-decoration-color: #008000\">⠏</span> Waiting for authorization\n</pre>\n"
                },
                "metadata": {}
              }
            ]
          }
        },
        "de5a85a3fa0a44559a3a5c63d2b7c18f": {
          "model_module": "@jupyter-widgets/base",
          "model_name": "LayoutModel",
          "model_module_version": "1.2.0",
          "state": {
            "_model_module": "@jupyter-widgets/base",
            "_model_module_version": "1.2.0",
            "_model_name": "LayoutModel",
            "_view_count": null,
            "_view_module": "@jupyter-widgets/base",
            "_view_module_version": "1.2.0",
            "_view_name": "LayoutView",
            "align_content": null,
            "align_items": null,
            "align_self": null,
            "border": null,
            "bottom": null,
            "display": null,
            "flex": null,
            "flex_flow": null,
            "grid_area": null,
            "grid_auto_columns": null,
            "grid_auto_flow": null,
            "grid_auto_rows": null,
            "grid_column": null,
            "grid_gap": null,
            "grid_row": null,
            "grid_template_areas": null,
            "grid_template_columns": null,
            "grid_template_rows": null,
            "height": null,
            "justify_content": null,
            "justify_items": null,
            "left": null,
            "margin": null,
            "max_height": null,
            "max_width": null,
            "min_height": null,
            "min_width": null,
            "object_fit": null,
            "object_position": null,
            "order": null,
            "overflow": null,
            "overflow_x": null,
            "overflow_y": null,
            "padding": null,
            "right": null,
            "top": null,
            "visibility": null,
            "width": null
          }
        }
      }
    }
  },
  "nbformat": 4,
  "nbformat_minor": 0
}